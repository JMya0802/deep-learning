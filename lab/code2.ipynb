{
 "cells": [
  {
   "cell_type": "code",
   "id": "initial_id",
   "metadata": {
    "collapsed": true,
    "ExecuteTime": {
     "end_time": "2024-11-05T10:30:11.369581Z",
     "start_time": "2024-11-05T10:30:08.067182Z"
    }
   },
   "source": [
    "from keras.models import Sequential\n",
    "from keras.layers import Dense\n",
    "# Initialize the model\n",
    "model = Sequential()\n",
    "# Input layer and first hidden layer with 50 nodes\n",
    "model.add(Dense(50, input_dim=10, activation='relu'))\n",
    "\n",
    "# Second hidden layer with 50 nodes\n",
    "model.add(Dense(50, activation='relu'))\n",
    "# Third hidden layer with 50 nodes\n",
    "model.add(Dense(50, activation='relu'))\n",
    "# Output layer (assuming binary classification)\n",
    "model.add(Dense(1, activation='sigmoid'))\n",
    "# Compile the model\n",
    "model.compile(loss='binary_crossentropy', optimizer='adam', metrics=['accuracy'])\n",
    "# Display the model's architecture\n",
    "model.summary()"
   ],
   "outputs": [
    {
     "name": "stdout",
     "output_type": "stream",
     "text": [
      "Model: \"sequential\"\n",
      "_________________________________________________________________\n",
      " Layer (type)                Output Shape              Param #   \n",
      "=================================================================\n",
      " dense (Dense)               (None, 50)                550       \n",
      "                                                                 \n",
      " dense_1 (Dense)             (None, 50)                2550      \n",
      "                                                                 \n",
      " dense_2 (Dense)             (None, 50)                2550      \n",
      "                                                                 \n",
      " dense_3 (Dense)             (None, 1)                 51        \n",
      "                                                                 \n",
      "=================================================================\n",
      "Total params: 5701 (22.27 KB)\n",
      "Trainable params: 5701 (22.27 KB)\n",
      "Non-trainable params: 0 (0.00 Byte)\n",
      "_________________________________________________________________\n"
     ]
    }
   ],
   "execution_count": 1
  },
  {
   "metadata": {
    "ExecuteTime": {
     "end_time": "2024-11-05T10:34:58.739553Z",
     "start_time": "2024-11-05T10:34:56.930048Z"
    }
   },
   "cell_type": "code",
   "source": [
    "import numpy as np\n",
    "from keras.models import Sequential\n",
    "from keras.layers import Dense\n",
    "from sklearn.model_selection import train_test_split\n",
    "from sklearn.preprocessing import StandardScaler\n",
    "# Generate random data\n",
    "np.random.seed(42)\n",
    "X = np.random.rand(1000, 10) # 1000 samples, 10 features\n",
    "y = np.random.randint(0, 2, 1000) # Binary target variable\n",
    "# Split the data into training and testing sets\n",
    "X_train, X_test, y_train, y_test = train_test_split(X, y, test_size=0.2, random_state=42)\n",
    "# Standardize the data\n",
    "scaler = StandardScaler()\n",
    "X_train = scaler.fit_transform(X_train)\n",
    "X_test = scaler.transform(X_test)\n",
    "# Initialize the model\n",
    "model = Sequential()\n",
    "# Input layer and first hidden layer with 50 nodes\n",
    "model.add(Dense(50, input_dim=10, activation='relu'))\n",
    "# Second hidden layer with 50 nodes\n",
    "model.add(Dense(50, activation='relu'))\n",
    "# Third hidden layer with 50 nodes\n",
    "model.add(Dense(50, activation='relu'))\n",
    "# Output layer (binary classification)\n",
    "model.add(Dense(1, activation='sigmoid'))\n",
    "# Compile the model\n",
    "model.compile(loss='binary_crossentropy', optimizer='adam', metrics=['accuracy'])\n",
    "# Train the model\n",
    "model.fit(X_train, y_train, epochs=20, batch_size=32, validation_split=0.2)\n",
    "# Evaluate the model\n",
    "loss, accuracy = model.evaluate(X_test, y_test)\n",
    "print(f\"Test Accuracy: {accuracy * 100:.2f}%\")"
   ],
   "id": "242e2939df58b2c8",
   "outputs": [
    {
     "name": "stdout",
     "output_type": "stream",
     "text": [
      "Epoch 1/20\n",
      "20/20 [==============================] - 1s 8ms/step - loss: 0.7034 - accuracy: 0.5297 - val_loss: 0.6958 - val_accuracy: 0.5188\n",
      "Epoch 2/20\n",
      "20/20 [==============================] - 0s 2ms/step - loss: 0.6861 - accuracy: 0.5500 - val_loss: 0.6935 - val_accuracy: 0.5250\n",
      "Epoch 3/20\n",
      "20/20 [==============================] - 0s 2ms/step - loss: 0.6793 - accuracy: 0.5844 - val_loss: 0.6914 - val_accuracy: 0.5188\n",
      "Epoch 4/20\n",
      "20/20 [==============================] - 0s 2ms/step - loss: 0.6728 - accuracy: 0.5953 - val_loss: 0.6914 - val_accuracy: 0.4875\n",
      "Epoch 5/20\n",
      "20/20 [==============================] - 0s 2ms/step - loss: 0.6657 - accuracy: 0.6344 - val_loss: 0.6889 - val_accuracy: 0.5250\n",
      "Epoch 6/20\n",
      "20/20 [==============================] - 0s 2ms/step - loss: 0.6585 - accuracy: 0.6328 - val_loss: 0.6900 - val_accuracy: 0.5063\n",
      "Epoch 7/20\n",
      "20/20 [==============================] - 0s 2ms/step - loss: 0.6507 - accuracy: 0.6500 - val_loss: 0.6899 - val_accuracy: 0.5125\n",
      "Epoch 8/20\n",
      "20/20 [==============================] - 0s 2ms/step - loss: 0.6424 - accuracy: 0.6547 - val_loss: 0.6901 - val_accuracy: 0.5188\n",
      "Epoch 9/20\n",
      "20/20 [==============================] - 0s 2ms/step - loss: 0.6331 - accuracy: 0.6641 - val_loss: 0.6907 - val_accuracy: 0.4938\n",
      "Epoch 10/20\n",
      "20/20 [==============================] - 0s 2ms/step - loss: 0.6228 - accuracy: 0.6922 - val_loss: 0.6932 - val_accuracy: 0.4812\n",
      "Epoch 11/20\n",
      "20/20 [==============================] - 0s 2ms/step - loss: 0.6128 - accuracy: 0.7078 - val_loss: 0.6944 - val_accuracy: 0.5000\n",
      "Epoch 12/20\n",
      "20/20 [==============================] - 0s 2ms/step - loss: 0.6036 - accuracy: 0.7047 - val_loss: 0.6977 - val_accuracy: 0.5125\n",
      "Epoch 13/20\n",
      "20/20 [==============================] - 0s 2ms/step - loss: 0.5915 - accuracy: 0.7266 - val_loss: 0.7032 - val_accuracy: 0.5250\n",
      "Epoch 14/20\n",
      "20/20 [==============================] - 0s 2ms/step - loss: 0.5755 - accuracy: 0.7391 - val_loss: 0.7076 - val_accuracy: 0.4563\n",
      "Epoch 15/20\n",
      "20/20 [==============================] - 0s 2ms/step - loss: 0.5637 - accuracy: 0.7422 - val_loss: 0.7078 - val_accuracy: 0.5063\n",
      "Epoch 16/20\n",
      "20/20 [==============================] - 0s 2ms/step - loss: 0.5521 - accuracy: 0.7641 - val_loss: 0.7215 - val_accuracy: 0.4625\n",
      "Epoch 17/20\n",
      "20/20 [==============================] - 0s 2ms/step - loss: 0.5392 - accuracy: 0.7688 - val_loss: 0.7245 - val_accuracy: 0.4938\n",
      "Epoch 18/20\n",
      "20/20 [==============================] - 0s 2ms/step - loss: 0.5218 - accuracy: 0.7750 - val_loss: 0.7301 - val_accuracy: 0.5125\n",
      "Epoch 19/20\n",
      "20/20 [==============================] - 0s 2ms/step - loss: 0.5087 - accuracy: 0.7937 - val_loss: 0.7418 - val_accuracy: 0.4625\n",
      "Epoch 20/20\n",
      "20/20 [==============================] - 0s 2ms/step - loss: 0.4968 - accuracy: 0.7953 - val_loss: 0.7430 - val_accuracy: 0.5250\n",
      "7/7 [==============================] - 0s 1000us/step - loss: 0.7055 - accuracy: 0.5750\n",
      "Test Accuracy: 57.50%\n"
     ]
    }
   ],
   "execution_count": 7
  },
  {
   "metadata": {
    "ExecuteTime": {
     "end_time": "2024-11-05T10:35:22.103362Z",
     "start_time": "2024-11-05T10:35:19.801297Z"
    }
   },
   "cell_type": "code",
   "source": [
    "\n",
    "model = Sequential()\n",
    "# Input layer and first hidden layer with 50 nodes\n",
    "model.add(Dense(50, input_dim=10, activation='relu'))\n",
    "# Second hidden layer with 50 nodes\n",
    "model.add(Dense(50, activation='relu'))\n",
    "# Third hidden layer with 50 nodes\n",
    "model.add(Dense(50, activation='relu'))\n",
    "# Output layer (binary classification)\n",
    "model.add(Dense(1, activation='sigmoid'))\n",
    "# Compile the model\n",
    "model.compile(loss='binary_crossentropy', optimizer='adam', metrics=['accuracy'])\n",
    "# Train the model\n",
    "model.fit(X_train, y_train, epochs=30, batch_size=32, validation_split=0.2)\n",
    "# Evaluate the model\n",
    "loss, accuracy = model.evaluate(X_test, y_test)\n",
    "print(f\"Test Accuracy: {accuracy * 100:.2f}%\")"
   ],
   "id": "4089b44c77eec16d",
   "outputs": [
    {
     "name": "stdout",
     "output_type": "stream",
     "text": [
      "Epoch 1/30\n",
      "20/20 [==============================] - 1s 9ms/step - loss: 0.6974 - accuracy: 0.5078 - val_loss: 0.6863 - val_accuracy: 0.5437\n",
      "Epoch 2/30\n",
      "20/20 [==============================] - 0s 3ms/step - loss: 0.6820 - accuracy: 0.5609 - val_loss: 0.6879 - val_accuracy: 0.5375\n",
      "Epoch 3/30\n",
      "20/20 [==============================] - 0s 2ms/step - loss: 0.6732 - accuracy: 0.5953 - val_loss: 0.6905 - val_accuracy: 0.5562\n",
      "Epoch 4/30\n",
      "20/20 [==============================] - 0s 2ms/step - loss: 0.6657 - accuracy: 0.6094 - val_loss: 0.6909 - val_accuracy: 0.5437\n",
      "Epoch 5/30\n",
      "20/20 [==============================] - 0s 2ms/step - loss: 0.6584 - accuracy: 0.6125 - val_loss: 0.6955 - val_accuracy: 0.5375\n",
      "Epoch 6/30\n",
      "20/20 [==============================] - 0s 2ms/step - loss: 0.6486 - accuracy: 0.6438 - val_loss: 0.6989 - val_accuracy: 0.5063\n",
      "Epoch 7/30\n",
      "20/20 [==============================] - 0s 2ms/step - loss: 0.6415 - accuracy: 0.6578 - val_loss: 0.7017 - val_accuracy: 0.5437\n",
      "Epoch 8/30\n",
      "20/20 [==============================] - 0s 2ms/step - loss: 0.6348 - accuracy: 0.6828 - val_loss: 0.7033 - val_accuracy: 0.5437\n",
      "Epoch 9/30\n",
      "20/20 [==============================] - 0s 2ms/step - loss: 0.6268 - accuracy: 0.6500 - val_loss: 0.7069 - val_accuracy: 0.4688\n",
      "Epoch 10/30\n",
      "20/20 [==============================] - 0s 2ms/step - loss: 0.6152 - accuracy: 0.7078 - val_loss: 0.7132 - val_accuracy: 0.5125\n",
      "Epoch 11/30\n",
      "20/20 [==============================] - 0s 2ms/step - loss: 0.6074 - accuracy: 0.7109 - val_loss: 0.7190 - val_accuracy: 0.5125\n",
      "Epoch 12/30\n",
      "20/20 [==============================] - 0s 2ms/step - loss: 0.5949 - accuracy: 0.7172 - val_loss: 0.7264 - val_accuracy: 0.4875\n",
      "Epoch 13/30\n",
      "20/20 [==============================] - 0s 2ms/step - loss: 0.5847 - accuracy: 0.7203 - val_loss: 0.7374 - val_accuracy: 0.4938\n",
      "Epoch 14/30\n",
      "20/20 [==============================] - 0s 2ms/step - loss: 0.5790 - accuracy: 0.7234 - val_loss: 0.7416 - val_accuracy: 0.5000\n",
      "Epoch 15/30\n",
      "20/20 [==============================] - 0s 2ms/step - loss: 0.5601 - accuracy: 0.7453 - val_loss: 0.7492 - val_accuracy: 0.5188\n",
      "Epoch 16/30\n",
      "20/20 [==============================] - 0s 2ms/step - loss: 0.5550 - accuracy: 0.7437 - val_loss: 0.7657 - val_accuracy: 0.4875\n",
      "Epoch 17/30\n",
      "20/20 [==============================] - 0s 2ms/step - loss: 0.5361 - accuracy: 0.7672 - val_loss: 0.7588 - val_accuracy: 0.4938\n",
      "Epoch 18/30\n",
      "20/20 [==============================] - 0s 2ms/step - loss: 0.5212 - accuracy: 0.7734 - val_loss: 0.7599 - val_accuracy: 0.5000\n",
      "Epoch 19/30\n",
      "20/20 [==============================] - 0s 2ms/step - loss: 0.5212 - accuracy: 0.7469 - val_loss: 0.7780 - val_accuracy: 0.4938\n",
      "Epoch 20/30\n",
      "20/20 [==============================] - 0s 2ms/step - loss: 0.5002 - accuracy: 0.7828 - val_loss: 0.7866 - val_accuracy: 0.4938\n",
      "Epoch 21/30\n",
      "20/20 [==============================] - 0s 2ms/step - loss: 0.4866 - accuracy: 0.7875 - val_loss: 0.7957 - val_accuracy: 0.4812\n",
      "Epoch 22/30\n",
      "20/20 [==============================] - 0s 2ms/step - loss: 0.4695 - accuracy: 0.8125 - val_loss: 0.8034 - val_accuracy: 0.4875\n",
      "Epoch 23/30\n",
      "20/20 [==============================] - 0s 2ms/step - loss: 0.4596 - accuracy: 0.7984 - val_loss: 0.8005 - val_accuracy: 0.5188\n",
      "Epoch 24/30\n",
      "20/20 [==============================] - 0s 2ms/step - loss: 0.4404 - accuracy: 0.8328 - val_loss: 0.8287 - val_accuracy: 0.4812\n",
      "Epoch 25/30\n",
      "20/20 [==============================] - 0s 2ms/step - loss: 0.4342 - accuracy: 0.8297 - val_loss: 0.8316 - val_accuracy: 0.4875\n",
      "Epoch 26/30\n",
      "20/20 [==============================] - 0s 2ms/step - loss: 0.4173 - accuracy: 0.8313 - val_loss: 0.8372 - val_accuracy: 0.4938\n",
      "Epoch 27/30\n",
      "20/20 [==============================] - 0s 2ms/step - loss: 0.3989 - accuracy: 0.8453 - val_loss: 0.8485 - val_accuracy: 0.5000\n",
      "Epoch 28/30\n",
      "20/20 [==============================] - 0s 2ms/step - loss: 0.3882 - accuracy: 0.8516 - val_loss: 0.8625 - val_accuracy: 0.4938\n",
      "Epoch 29/30\n",
      "20/20 [==============================] - 0s 2ms/step - loss: 0.3795 - accuracy: 0.8562 - val_loss: 0.8815 - val_accuracy: 0.5188\n",
      "Epoch 30/30\n",
      "20/20 [==============================] - 0s 2ms/step - loss: 0.3734 - accuracy: 0.8500 - val_loss: 0.8880 - val_accuracy: 0.5063\n",
      "7/7 [==============================] - 0s 1ms/step - loss: 0.8631 - accuracy: 0.5050\n",
      "Test Accuracy: 50.50%\n"
     ]
    }
   ],
   "execution_count": 10
  },
  {
   "metadata": {},
   "cell_type": "code",
   "outputs": [],
   "execution_count": null,
   "source": "",
   "id": "a935fbd0d3fab11"
  }
 ],
 "metadata": {
  "kernelspec": {
   "display_name": "Python 3",
   "language": "python",
   "name": "python3"
  },
  "language_info": {
   "codemirror_mode": {
    "name": "ipython",
    "version": 2
   },
   "file_extension": ".py",
   "mimetype": "text/x-python",
   "name": "python",
   "nbconvert_exporter": "python",
   "pygments_lexer": "ipython2",
   "version": "2.7.6"
  }
 },
 "nbformat": 4,
 "nbformat_minor": 5
}
