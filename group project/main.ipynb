{
 "cells": [
  {
   "cell_type": "code",
   "id": "initial_id",
   "metadata": {
    "collapsed": true,
    "ExecuteTime": {
     "end_time": "2024-11-04T01:40:53.463425Z",
     "start_time": "2024-11-04T01:40:53.454439Z"
    }
   },
   "source": "",
   "outputs": [
    {
     "name": "stdout",
     "output_type": "stream",
     "text": [
      "hi\n"
     ]
    }
   ],
   "execution_count": 1
  },
  {
   "metadata": {
    "ExecuteTime": {
     "end_time": "2024-11-04T05:59:02.462297Z",
     "start_time": "2024-11-04T05:59:01.560463Z"
    }
   },
   "cell_type": "code",
   "source": [
    "import kagglehub\n",
    "\n",
    "# Download latest version\n",
    "path = kagglehub.dataset_download(\"awsaf49/coco-2017-dataset\")\n",
    "\n",
    "print(\"Path to dataset files:\", path)"
   ],
   "id": "800835deaacbce4f",
   "outputs": [
    {
     "name": "stdout",
     "output_type": "stream",
     "text": [
      "Warning: Looks like you're using an outdated `kagglehub` version, please consider updating (latest version: 0.3.3)\n",
      "Path to dataset files: C:\\Users\\tan04\\.cache\\kagglehub\\datasets\\awsaf49\\coco-2017-dataset\\versions\\2\n"
     ]
    }
   ],
   "execution_count": 1
  },
  {
   "metadata": {
    "ExecuteTime": {
     "end_time": "2024-11-04T07:08:39.778776Z",
     "start_time": "2024-11-04T07:08:39.775401Z"
    }
   },
   "cell_type": "code",
   "source": [
    "base_path = \"C:\\\\Users\\\\tan04\\\\.cache\\\\kagglehub\\\\datasets\\\\awsaf49\\\\coco-2017-dataset\\\\versions\\\\2\\\\coco2017\"\n",
    "\n",
    "training_image_path = \"\\\\train2017\"\n",
    "training_label_path = \"\\\\annotations\\\\instances_train2017.json\"\n"
   ],
   "id": "1f5646e48bf5454d",
   "outputs": [],
   "execution_count": 4
  },
  {
   "metadata": {
    "ExecuteTime": {
     "end_time": "2024-11-04T07:08:57.370440Z",
     "start_time": "2024-11-04T07:08:41.473022Z"
    }
   },
   "cell_type": "code",
   "source": [
    "import json\n",
    "\n",
    "with open(base_path + training_label_path, 'r') as file:\n",
    "    data = json.load(file)\n"
   ],
   "id": "bec995f2e6da8234",
   "outputs": [],
   "execution_count": 5
  },
  {
   "metadata": {
    "ExecuteTime": {
     "end_time": "2024-11-04T07:08:57.383301Z",
     "start_time": "2024-11-04T07:08:57.371447Z"
    }
   },
   "cell_type": "code",
   "source": [
    "for i in data:\n",
    "    print(i)"
   ],
   "id": "bc2bfef094f05a30",
   "outputs": [
    {
     "name": "stdout",
     "output_type": "stream",
     "text": [
      "info\n",
      "licenses\n",
      "images\n",
      "annotations\n",
      "categories\n"
     ]
    }
   ],
   "execution_count": 6
  },
  {
   "metadata": {
    "ExecuteTime": {
     "end_time": "2024-11-04T07:08:57.387779Z",
     "start_time": "2024-11-04T07:08:57.384310Z"
    }
   },
   "cell_type": "code",
   "source": [
    "cat_id2name = {cat[\"id\"]:cat[\"name\"] for cat in data[\"categories\"]}\n",
    "cat_name2id = {cat[\"name\"]:cat[\"id\"] for cat in data[\"categories\"]}"
   ],
   "id": "8c649e460d86ff8b",
   "outputs": [],
   "execution_count": 7
  },
  {
   "metadata": {
    "ExecuteTime": {
     "end_time": "2024-11-04T07:08:57.413565Z",
     "start_time": "2024-11-04T07:08:57.388790Z"
    }
   },
   "cell_type": "code",
   "source": [
    "import cv2\n",
    "for i in data['images'][0]:\n",
    "    print(i)\n",
    "    \n",
    "image_id2file = { image['id']: image['file_name'] for image in data['images']}\n"
   ],
   "id": "8b23332630802736",
   "outputs": [
    {
     "name": "stdout",
     "output_type": "stream",
     "text": [
      "license\n",
      "file_name\n",
      "coco_url\n",
      "height\n",
      "width\n",
      "date_captured\n",
      "flickr_url\n",
      "id\n"
     ]
    }
   ],
   "execution_count": 8
  },
  {
   "metadata": {
    "ExecuteTime": {
     "end_time": "2024-11-04T07:08:57.418245Z",
     "start_time": "2024-11-04T07:08:57.414576Z"
    }
   },
   "cell_type": "code",
   "source": [
    "for i in data[\"annotations\"][0]:\n",
    "    print(i)\n",
    "\n",
    "print(data[\"annotations\"][0]['bbox'])\n"
   ],
   "id": "eaddb880582190c4",
   "outputs": [
    {
     "name": "stdout",
     "output_type": "stream",
     "text": [
      "segmentation\n",
      "area\n",
      "iscrowd\n",
      "image_id\n",
      "bbox\n",
      "category_id\n",
      "id\n",
      "[199.84, 200.46, 77.71, 70.88]\n"
     ]
    }
   ],
   "execution_count": 9
  },
  {
   "metadata": {
    "ExecuteTime": {
     "end_time": "2024-11-04T07:08:57.422147Z",
     "start_time": "2024-11-04T07:08:57.419251Z"
    }
   },
   "cell_type": "code",
   "source": "print(data[\"annotations\"][0]['image_id'])\n",
   "id": "88ee25f39038e501",
   "outputs": [
    {
     "name": "stdout",
     "output_type": "stream",
     "text": [
      "558840\n"
     ]
    }
   ],
   "execution_count": 10
  },
  {
   "metadata": {
    "ExecuteTime": {
     "end_time": "2024-11-04T07:29:20.931500Z",
     "start_time": "2024-11-04T07:29:20.925314Z"
    }
   },
   "cell_type": "code",
   "source": "image_id2file[data[\"annotations\"][1]['image_id']]",
   "id": "30d169f20782da94",
   "outputs": [
    {
     "data": {
      "text/plain": [
       "'000000200365.jpg'"
      ]
     },
     "execution_count": 31,
     "metadata": {},
     "output_type": "execute_result"
    }
   ],
   "execution_count": 31
  },
  {
   "metadata": {
    "ExecuteTime": {
     "end_time": "2024-11-04T07:36:28.426536Z",
     "start_time": "2024-11-04T07:35:02.432427Z"
    }
   },
   "cell_type": "code",
   "source": [
    "\n",
    "import cv2\n",
    "import random\n",
    "\n",
    "# select ith object and display\n",
    "for j in range(10):\n",
    "    i = random.randint(0, len(data[\"annotations\"]) - 1)\n",
    "    \n",
    "    COLOUR = (0,0,255)\n",
    "    \n",
    "    top_left = (int(data[\"annotations\"][i]['bbox'][0]), int(data[\"annotations\"][i]['bbox'][1]))\n",
    "    \n",
    "    box_width = int(data[\"annotations\"][i]['bbox'][2])\n",
    "    box_height = int(data[\"annotations\"][i]['bbox'][3])\n",
    "    \n",
    "    \n",
    "    bottom_right = (top_left[0] + box_width, top_left[1] + box_height)\n",
    "    \n",
    "    image = cv2.imread(base_path + training_image_path + f'\\\\{image_id2file[data[\"annotations\"][i][\"image_id\"]]}')\n",
    "    \n",
    "    if image is None:\n",
    "        print(\"Error: Could not read the image.\")\n",
    "    else:\n",
    "        cv2.rectangle(image, top_left, bottom_right, COLOUR, 1)\n",
    "    \n",
    "        cv2.imshow(cat_id2name[ data[\"annotations\"][i]['category_id']], image)\n",
    "    \n",
    "        cv2.waitKey(0)\n",
    "        cv2.destroyAllWindows()"
   ],
   "id": "54a3bdd98bdde66b",
   "outputs": [],
   "execution_count": 40
  },
  {
   "metadata": {},
   "cell_type": "code",
   "outputs": [],
   "execution_count": null,
   "source": "",
   "id": "52d716393d9143e7"
  }
 ],
 "metadata": {
  "kernelspec": {
   "display_name": "Python 3",
   "language": "python",
   "name": "python3"
  },
  "language_info": {
   "codemirror_mode": {
    "name": "ipython",
    "version": 2
   },
   "file_extension": ".py",
   "mimetype": "text/x-python",
   "name": "python",
   "nbconvert_exporter": "python",
   "pygments_lexer": "ipython2",
   "version": "2.7.6"
  }
 },
 "nbformat": 4,
 "nbformat_minor": 5
}
